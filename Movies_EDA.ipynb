{
 "cells": [
  {
   "cell_type": "code",
   "execution_count": null,
   "id": "14cdcad2",
   "metadata": {},
   "outputs": [],
   "source": [
    "import pandas as pd"
   ]
  },
  {
   "cell_type": "code",
   "execution_count": null,
   "id": "70dade6f",
   "metadata": {},
   "outputs": [],
   "source": [
    "#Loading Movielens Movies dataset\n",
    "movies_df = pd.read_csv('./data/movielens/movies.csv')\n",
    "movies_df.head(5)\n",
    "\n",
    "#Extracticg and creating new column \"year\" from the title column\n",
    "movies_df['year'] = movies_df['title'].str.extract(r'(\\(\\d{4}\\)$)') #Extracts '(year)' from title\n",
    "movies_df['year'] = movies_df['year'].str.extract(r'(\\d{4})') #Extracts 'year' from '(year)'\n",
    "\n",
    "#Checking and counting the number of 'NA' values in the 'year' column\n",
    "print(\"Is NA values present: {}\".format(movies_df['year'].isnull().values.any())) #Find if NA is present in the column \n",
    "print(\"NA values count: {}\".format(movies_df['year'].isnull().values.sum())) #Count the number of NA in the column\n",
    "\n",
    "#Replacing 'NA' values with '0'\n",
    "movies_df['year'].fillna('0', inplace=True) #Replace NA with value 0\n",
    "\n",
    "#Converting the datatype of 'year' column from string to int\n",
    "movies_df = movies_df.astype({'year': int})\n",
    "movies_df.dtypes\n",
    "\n",
    "#Sorting the movies in ascending order by year\n",
    "movies_df.sort_values(by='year', inplace=True)\n",
    "\n",
    "#Creating a new dataframe with movies starting from 2009\n",
    "new_movies_df = movies_df.loc[movies_df['year'] >= 2009]\n",
    "print(\"Movies count {}\".format(len(new_movies_df.index)))\n",
    "new_movies_df.head(20)"
   ]
  },
  {
   "cell_type": "code",
   "execution_count": null,
   "id": "39c362dd",
   "metadata": {},
   "outputs": [],
   "source": [
    "#Movielens Links dataset\n",
    "links_df = pd.read_csv('./data/movielens/external_links.csv')\n",
    "\n",
    "#Checking and counting the number of 'NA' values in the 'tmdbid' and 'imdbid' columns\n",
    "print(\"Does 'tmdbid' column contain NA values ?: {}\".format(links_df['tmdbId'].isnull().values.any()))\n",
    "print(\"NA Values count: {}\".format(links_df['tmdbId'].isnull().values.sum()))\n",
    "print(\"Does 'imdbid' column contain NA values ?: {}\".format(links_df['imdbId'].isnull().values.any()))\n",
    "print(\"NA Values count: {}\".format(links_df['imdbId'].isnull().values.sum()))\n",
    "\n",
    "#Replacing 'NA' values with '0'\n",
    "links_df['tmdbId'].fillna(0, inplace=True) #Replace NA values with 0\n",
    "\n",
    "#Checking the column datatypes\n",
    "print(\"\\n\",links_df.dtypes)\n",
    "\n",
    "#Converting the datatype of 'tmdbId' column from float to int\n",
    "links_df = links_df.astype({'tmdbId': int})\n",
    "links_df.head(5)"
   ]
  },
  {
   "cell_type": "code",
   "execution_count": null,
   "id": "2b122aec",
   "metadata": {},
   "outputs": [],
   "source": [
    "#merge movies and link dataframe on movieid\n",
    "merged_movies_df = pd.merge(new_movies_df, links_df, how='inner', on = 'movieId')\n",
    "merged_movies_df.head(5)"
   ]
  },
  {
   "cell_type": "code",
   "execution_count": null,
   "id": "531831b7",
   "metadata": {},
   "outputs": [],
   "source": [
    "from DataManager import RestClient"
   ]
  },
  {
   "cell_type": "code",
   "execution_count": null,
   "id": "087ac35a",
   "metadata": {
    "scrolled": true
   },
   "outputs": [],
   "source": [
    "RestClient(merged_movies_df).fetch_data()"
   ]
  },
  {
   "cell_type": "code",
   "execution_count": null,
   "id": "7f3065fb",
   "metadata": {},
   "outputs": [],
   "source": [
    "from WebScraper import Oscars"
   ]
  },
  {
   "cell_type": "code",
   "execution_count": null,
   "id": "b2ad138f",
   "metadata": {},
   "outputs": [],
   "source": [
    "Oscars().scrape()"
   ]
  },
  {
   "cell_type": "code",
   "execution_count": null,
   "id": "5dec9801",
   "metadata": {},
   "outputs": [],
   "source": [
    "from PostgreSqlHelper import Connection"
   ]
  },
  {
   "cell_type": "code",
   "execution_count": null,
   "id": "25e10c06",
   "metadata": {},
   "outputs": [],
   "source": [
    "cursor = Connection(\"motion_pictures\").create_cursor()"
   ]
  },
  {
   "cell_type": "code",
   "execution_count": null,
   "id": "332f46b9",
   "metadata": {},
   "outputs": [],
   "source": [
    "#Movie tables along with its multivalued attributes\n",
    "cursor.execute(\"\"\"CREATE TABLE IF NOT EXISTS Movie (\n",
    "                    movieid INT PRIMARY KEY, \n",
    "                    title VARCHAR NOT NULL,\n",
    "                    tagline VARCHAR NOT NULL,\n",
    "                    plot VARCHAR NOT NULL,\n",
    "                    released_date VARCHAR NOT NULL,\n",
    "                    certificate VARCHAR NOT NULL,\n",
    "                    runtime INT,\n",
    "                    award_wins INT,\n",
    "                    award_nominations INT,\n",
    "                    oscar_win BOOLEAN,\n",
    "                    oscar_nomination BOOLEAN,\n",
    "                    budget INT,\n",
    "                    bo INT,\n",
    "                    popularity REAL,\n",
    "                    is_adult BOOLEAN,\n",
    "                    imdb_rating REAL,\n",
    "                    metascore INT,\n",
    "                    rotten_tomatoes INT,\n",
    "                    tmdb_rating REAL) \"\"\")\n",
    "\n",
    "cursor.execute(\"\"\" CREATE TABLE IF NOT EXISTS Language (movie_id INT, lang VARCHAR NOT NULL,\n",
    "                    PRIMARY KEY (movie_id, lang),\n",
    "                    CONSTRAINT fk_movie_lan FOREIGN KEY (movie_id) REFERENCES Movie(movieid))\"\"\")\n",
    "\n",
    "cursor.execute(\"\"\" CREATE TABLE IF NOT EXISTS Genre (movie_id INT, type VARCHAR NOT NULL,\n",
    "                    PRIMARY KEY (movie_id, type),\n",
    "                    CONSTRAINT fk_movie_genre FOREIGN KEY (movie_id) REFERENCES Movie(movieid))\"\"\")\n",
    "\n",
    "cursor.execute(\"\"\" CREATE TABLE IF NOT EXISTS Producer (movie_id INT, name VARCHAR NOT NULL,\n",
    "                    PRIMARY KEY (movie_id, name),\n",
    "                    CONSTRAINT fk_movie_prod FOREIGN KEY (movie_id) REFERENCES Movie(movieid))\"\"\")\n",
    "\n"
   ]
  },
  {
   "cell_type": "code",
   "execution_count": null,
   "id": "d0ce28fd",
   "metadata": {},
   "outputs": [],
   "source": [
    "#Director Table\n",
    "cursor.execute(\"\"\" CREATE TABLE IF NOT EXISTS Director (id SERIAL PRIMARY KEY, \n",
    "                    name VARCHAR NOT NULL,\n",
    "                    oscar_nominations INT,\n",
    "                    oscar_wins INT) \"\"\")\n",
    "\n",
    "\n",
    "cursor.execute(\"\"\" CREATE TABLE IF NOT EXISTS Directed_by (dir_id INT,\n",
    "                    movie_id INT,\n",
    "                    PRIMARY KEY (dir_id, movie_id),\n",
    "                    CONSTRAINT fk_movie_rel FOREIGN KEY (movie_id) REFERENCES Movie(movieid),\n",
    "                    CONSTRAINT fk_dir_rel FOREIGN KEY (dir_id) REFERENCES Director(id))\"\"\")"
   ]
  },
  {
   "cell_type": "code",
   "execution_count": null,
   "id": "ae60eac0",
   "metadata": {},
   "outputs": [],
   "source": [
    "#Writer Table\n",
    "cursor.execute(\"\"\" CREATE TABLE IF NOT EXISTS Writer (id SERIAL PRIMARY KEY, \n",
    "                    name VARCHAR NOT NULL,\n",
    "                    oscar_nominations INT,\n",
    "                    oscar_wins INT) \"\"\")\n",
    "\n",
    "\n",
    "cursor.execute(\"\"\" CREATE TABLE IF NOT EXISTS Written_by (writ_id INT,\n",
    "                    movie_id INT,\n",
    "                    PRIMARY KEY (writ_id, movie_id),\n",
    "                    CONSTRAINT fk_movie_writ_rel FOREIGN KEY (movie_id) REFERENCES Movie(movieid),\n",
    "                    CONSTRAINT fk_writ_rel FOREIGN KEY (writ_id) REFERENCES Writer(id))\"\"\")"
   ]
  },
  {
   "cell_type": "code",
   "execution_count": null,
   "id": "4e88f0cb",
   "metadata": {},
   "outputs": [],
   "source": [
    "#Actor Table\n",
    "cursor.execute(\"\"\" CREATE TABLE IF NOT EXISTS Actor (id SERIAL PRIMARY KEY, \n",
    "                    name VARCHAR NOT NULL,\n",
    "                    oscar_nominations INT,\n",
    "                    oscar_wins INT) \"\"\")\n",
    "\n",
    "\n",
    "cursor.execute(\"\"\" CREATE TABLE IF NOT EXISTS Acting_by (act_id INT,\n",
    "                    movie_id INT,\n",
    "                    PRIMARY KEY (act_id, movie_id),\n",
    "                    CONSTRAINT fk_movie_act_rel FOREIGN KEY (movie_id) REFERENCES Movie(movieid),\n",
    "                    CONSTRAINT fk_act_rel FOREIGN KEY (act_id) REFERENCES Actor(id))\"\"\")"
   ]
  },
  {
   "cell_type": "code",
   "execution_count": null,
   "id": "243ac760",
   "metadata": {},
   "outputs": [],
   "source": [
    "#Parse data from Mongodb"
   ]
  }
 ],
 "metadata": {
  "kernelspec": {
   "display_name": "DAP",
   "language": "python",
   "name": "dap"
  },
  "language_info": {
   "codemirror_mode": {
    "name": "ipython",
    "version": 3
   },
   "file_extension": ".py",
   "mimetype": "text/x-python",
   "name": "python",
   "nbconvert_exporter": "python",
   "pygments_lexer": "ipython3",
   "version": "3.9.7"
  }
 },
 "nbformat": 4,
 "nbformat_minor": 5
}
