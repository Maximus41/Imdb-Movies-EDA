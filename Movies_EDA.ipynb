{
 "cells": [
  {
   "cell_type": "code",
   "execution_count": null,
   "id": "14cdcad2",
   "metadata": {},
   "outputs": [],
   "source": [
    "import pandas as pd"
   ]
  },
  {
   "cell_type": "code",
   "execution_count": null,
   "id": "70dade6f",
   "metadata": {},
   "outputs": [],
   "source": [
    "#Loading Movielens Movies dataset\n",
    "movies_df = pd.read_csv('./data/movielens/movies.csv')\n",
    "movies_df.head(5)\n",
    "\n",
    "#Extracticg and creating new column \"year\" from the title column\n",
    "movies_df['year'] = movies_df['title'].str.extract(r'(\\(\\d{4}\\)$)') #Extracts '(year)' from title\n",
    "movies_df['year'] = movies_df['year'].str.extract(r'(\\d{4})') #Extracts 'year' from '(year)'\n",
    "\n",
    "#Checking and counting the number of 'NA' values in the 'year' column\n",
    "print(\"Is NA values present: {}\".format(movies_df['year'].isnull().values.any())) #Find if NA is present in the column \n",
    "print(\"NA values count: {}\".format(movies_df['year'].isnull().values.sum())) #Count the number of NA in the column\n",
    "\n",
    "#Replacing 'NA' values with '0'\n",
    "movies_df['year'].fillna('0', inplace=True) #Replace NA with value 0\n",
    "\n",
    "#Converting the datatype of 'year' column from string to int\n",
    "movies_df = movies_df.astype({'year': int})\n",
    "movies_df.dtypes\n",
    "\n",
    "#Sorting the movies in ascending order by year\n",
    "movies_df.sort_values(by='year', inplace=True)\n",
    "\n",
    "#Creating a new dataframe with movies starting from 2008\n",
    "new_movies_df = movies_df.loc[movies_df['year'] >= 2008]\n",
    "print(\"Movies count {}\".format(len(new_movies_df.index)))\n",
    "new_movies_df.head(20)"
   ]
  },
  {
   "cell_type": "code",
   "execution_count": null,
   "id": "39c362dd",
   "metadata": {},
   "outputs": [],
   "source": [
    "#Movielens Links dataset\n",
    "links_df = pd.read_csv('./data/movielens/external_links.csv')\n",
    "\n",
    "#Checking and counting the number of 'NA' values in the 'tmdbid' and 'imdbid' columns\n",
    "print(\"Does 'tmdbid' column contain NA values ?: {}\".format(links_df['tmdbId'].isnull().values.any()))\n",
    "print(\"NA Values count: {}\".format(links_df['tmdbId'].isnull().values.sum()))\n",
    "print(\"Does 'imdbid' column contain NA values ?: {}\".format(links_df['imdbId'].isnull().values.any()))\n",
    "print(\"NA Values count: {}\".format(links_df['imdbId'].isnull().values.sum()))\n",
    "\n",
    "#Replacing 'NA' values with '0'\n",
    "links_df['tmdbId'].fillna(0, inplace=True) #Replace NA values with 0\n",
    "\n",
    "#Checking the column datatypes\n",
    "print(\"\\n\",links_df.dtypes)\n",
    "\n",
    "#Converting the datatype of 'tmdbId' column from float to int\n",
    "links_df = links_df.astype({'tmdbId': int})\n",
    "links_df.head(5)"
   ]
  },
  {
   "cell_type": "code",
   "execution_count": null,
   "id": "2b122aec",
   "metadata": {},
   "outputs": [],
   "source": [
    "#merge movies and link dataframe on movieid\n",
    "merged_movies_df = pd.merge(new_movies_df, links_df, how='inner', on = 'movieId')\n",
    "merged_movies_df.head(5)"
   ]
  },
  {
   "cell_type": "code",
   "execution_count": null,
   "id": "531831b7",
   "metadata": {},
   "outputs": [],
   "source": [
    "from DataManager import RestClient"
   ]
  },
  {
   "cell_type": "code",
   "execution_count": null,
   "id": "087ac35a",
   "metadata": {},
   "outputs": [],
   "source": [
    "RestClient(merged_movies_df).fetch_data()"
   ]
  }
 ],
 "metadata": {
  "kernelspec": {
   "display_name": "DAP",
   "language": "python",
   "name": "dap"
  },
  "language_info": {
   "codemirror_mode": {
    "name": "ipython",
    "version": 3
   },
   "file_extension": ".py",
   "mimetype": "text/x-python",
   "name": "python",
   "nbconvert_exporter": "python",
   "pygments_lexer": "ipython3",
   "version": "3.9.7"
  }
 },
 "nbformat": 4,
 "nbformat_minor": 5
}
